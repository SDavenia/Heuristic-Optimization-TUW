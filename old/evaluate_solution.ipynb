{
 "cells": [
  {
   "cell_type": "code",
   "execution_count": 103,
   "metadata": {},
   "outputs": [],
   "source": [
    "def evaluate_solution(problem_file, solution_file):\n",
    "    \"\"\"\n",
    "    Given the solution file and the corresponding problem file \n",
    "     where the weight of the edges is provided:\n",
    "    It returns the cost of the proposed solution.\n",
    "    \"\"\"\n",
    "    # Extract (i, j) pairs contained in the solution file\n",
    "    solution_pairs = []     \n",
    "    with open(solution_file) as file:\n",
    "        lines = file.readlines()\n",
    "        for line in lines[1:]:\n",
    "            values = line.split()\n",
    "            solution_pairs.append(values[0] + ' ' + values[1])\n",
    "    \n",
    "\n",
    "    cost = 0\n",
    "    counter = 0 # Variable to check if we found all edges in the solution, if not there are some problems.\n",
    "    \n",
    "    # Extract cost by looking at the weights in the problem file    \n",
    "    with open(problem_file, 'r') as file:\n",
    "        lines = file.readlines()\n",
    "        for line in lines[1:]:\n",
    "            values = line.split()\n",
    "            entry = values[0] + ' ' + values[1]\n",
    "            if entry in solution_pairs:\n",
    "                cost += int(values[3])\n",
    "                counter += 1 \n",
    "    \n",
    "    # Additional check to ensure that all the edges in the solution have an associated weight in the problem instance\n",
    "    if counter != len(solution_pairs):\n",
    "        print(f\"Something wrong, {len(solution_pairs) - counter} edges in the solution could not be found\")\n",
    "        return \n",
    "    return(cost)"
   ]
  },
  {
   "cell_type": "code",
   "execution_count": 104,
   "metadata": {},
   "outputs": [
    {
     "data": {
      "text/plain": [
       "9"
      ]
     },
     "execution_count": 104,
     "metadata": {},
     "output_type": "execute_result"
    }
   ],
   "source": [
    "evaluate_solution('test.txt', 'sol.txt')"
   ]
  },
  {
   "cell_type": "code",
   "execution_count": 122,
   "metadata": {},
   "outputs": [],
   "source": [
    "def BFS_checking(adj_list, s):\n",
    "    \"\"\"\n",
    "    This function uses BFS to traverse the whole graph and check if\n",
    "    the subgraphs present in it are s-plexes\n",
    "    It returns 0 if they are not and 1 if they are\n",
    "    \"\"\"\n",
    "    # Mark all nodes as not visited\n",
    "    visited = [False] * len(adj_list)\n",
    "\n",
    "    while sum(visited) != len(visited): # i.e. until we have visited all of them\n",
    "        S = 0 # Count number of nodes in the group\n",
    "        group_nodes = [] # Store the nodes in the group\n",
    "\n",
    "        # Create a queue for BFS\n",
    "        queue = []\n",
    "        \n",
    "        # Pick the first node not yet visited as source and enqueue it\n",
    "        node = visited.index(False)\n",
    "        queue.append(node + 1) # Since indexing starts at 0 but node counts at 1\n",
    "        visited[node] = True\n",
    "\n",
    "        while queue:\n",
    "            node = queue.pop(0)\n",
    "            group_nodes.append(node)\n",
    "            S += 1\n",
    "\n",
    "            # Get all adjacent vertices of the queue\n",
    "            for i in adj_list[node]:\n",
    "                if visited[i-1] == False:\n",
    "                    queue.append(i)\n",
    "                    visited[i-1] = True\n",
    "        \n",
    "        counts = [len(adj_list[node]) for node in group_nodes]\n",
    "        # print(f\"This group contains {S} nodes: {group_nodes} with counts {counts}\")\n",
    "        for cnt in counts:\n",
    "            if cnt < S - s:\n",
    "                return False\n",
    "    \n",
    "    return True \n"
   ]
  },
  {
   "cell_type": "code",
   "execution_count": 134,
   "metadata": {},
   "outputs": [],
   "source": [
    "def check_s_plex(problem_file, solution_file, s):\n",
    "    \"\"\"\n",
    "    Given the problem file, the solution file and s\n",
    "    It checks if the original problem with the modifications present in the solution is an s-plex\n",
    "    \"\"\"\n",
    "\n",
    "    ######################## CREATE UPDATED LIST OF EDGES ########################\n",
    "    solution_pairs = []     \n",
    "    with open('sol.txt') as file:\n",
    "        lines = file.readlines()\n",
    "        for line in lines[1:]:\n",
    "            values = line.split()\n",
    "            solution_pairs.append(values[0] + ' ' + values[1])\n",
    "\n",
    "    # Extract cost by looking at the weights in the problem file    \n",
    "    problem_pairs = []\n",
    "    with open('test.txt', 'r') as file:\n",
    "        lines = file.readlines()\n",
    "        n = int(lines[0].split()[1])\n",
    "        for line in lines[1:]:\n",
    "            values = line.split()\n",
    "\n",
    "            # If edge is present in the graph, append it.\n",
    "            if int(values[2]) == 1:\n",
    "                problem_pairs.append(values[0] + ' ' + values[1])\n",
    "\n",
    "    # Now we have to update the problem pairs with the solution ones, i.e. if we removed or added.\n",
    "    # Index of problem edges which have to be removed\n",
    "    to_remove = [i for i, w in enumerate(problem_pairs) if w in solution_pairs]\n",
    "\n",
    "    # Index of solution edges which have to be added\n",
    "    to_insert = [i for i,w in enumerate(solution_pairs) if w not in problem_pairs]\n",
    "\n",
    "    removed = [w for i, w in enumerate(problem_pairs) if i not in to_remove]\n",
    "    final = removed + [w for i,w in enumerate(solution_pairs) if i in to_insert] #Contains the edges in the proposed solution\n",
    "\n",
    "    ######################## BFS ########################\n",
    "    # First of all obtain the adjacency list for each node\n",
    "    keys = list(range(n))\n",
    "    keys = [k + 1 for k in keys] # Node indexing starts at 1 and not at 0\n",
    "    adj_list = {key : [] for key in keys}\n",
    "\n",
    "    for i, pair in enumerate(final):\n",
    "        indices = pair.split()\n",
    "        # Append both ways\n",
    "        adj_list[int(indices[0])].append(int(indices[1]))\n",
    "        adj_list[int(indices[1])].append(int(indices[0]))\n",
    "\n",
    "    return BFS_checking(adj_list, s)"
   ]
  },
  {
   "cell_type": "code",
   "execution_count": 138,
   "metadata": {},
   "outputs": [
    {
     "data": {
      "text/plain": [
       "False"
      ]
     },
     "execution_count": 138,
     "metadata": {},
     "output_type": "execute_result"
    }
   ],
   "source": [
    "check_s_plex(\"test.txt\", 'sol.txt', 1)"
   ]
  },
  {
   "cell_type": "markdown",
   "metadata": {},
   "source": [
    "FROM HERE ONWARDS ONLY TRIAL STUFF"
   ]
  },
  {
   "cell_type": "code",
   "execution_count": 74,
   "metadata": {},
   "outputs": [
    {
     "data": {
      "text/plain": [
       "{1: [], 2: [], 3: [], 4: [], 5: [], 6: [], 7: [], 8: [], 9: []}"
      ]
     },
     "execution_count": 74,
     "metadata": {},
     "output_type": "execute_result"
    }
   ],
   "source": [
    "# Initialize dict list to represent adjacency list\n",
    "n = 9\n",
    "keys = list(range(n))\n",
    "keys = [k + 1 for k in keys] # Node indexing starts at 1 and not at 0\n",
    "adj_list = {key : [] for key in keys}\n",
    "adj_list"
   ]
  },
  {
   "cell_type": "code",
   "execution_count": 75,
   "metadata": {},
   "outputs": [],
   "source": [
    "for i, pair in enumerate(final):\n",
    "    indices = pair.split()\n",
    "    # Append both ways\n",
    "    adj_list[int(indices[0])].append(int(indices[1]))\n",
    "    adj_list[int(indices[1])].append(int(indices[0]))"
   ]
  },
  {
   "cell_type": "code",
   "execution_count": 76,
   "metadata": {},
   "outputs": [
    {
     "data": {
      "text/plain": [
       "{1: [2],\n",
       " 2: [1],\n",
       " 3: [4, 5],\n",
       " 4: [3, 5],\n",
       " 5: [3, 4],\n",
       " 6: [7, 8],\n",
       " 7: [6, 9],\n",
       " 8: [6, 9],\n",
       " 9: [7, 8]}"
      ]
     },
     "execution_count": 76,
     "metadata": {},
     "output_type": "execute_result"
    }
   ],
   "source": [
    "adj_list # We can also extract the order of each vertex"
   ]
  },
  {
   "cell_type": "code",
   "execution_count": 77,
   "metadata": {},
   "outputs": [],
   "source": [
    "def BFS(adj_list):\n",
    "    # Mark all nodes as not visited\n",
    "    visited = [False] * len(adj_list)\n",
    "\n",
    "    # Create a queue for BFS\n",
    "    queue = []\n",
    "\n",
    "    # Pick the first node as source and enqueue it\n",
    "    queue.append(1)\n",
    "    visited[0] = True\n",
    "\n",
    "    while queue:\n",
    "        # Pop first element in the queue\n",
    "        s = queue.pop(0)\n",
    "        print(s)\n",
    "\n",
    "        # Get all adjacent vertices of the queue\n",
    "        for i in adj_list[s]:\n",
    "            if visited[i-1] == False:\n",
    "                queue.append(i)\n",
    "                visited[i-1] = True"
   ]
  },
  {
   "cell_type": "code",
   "execution_count": null,
   "metadata": {},
   "outputs": [],
   "source": [
    "def BFS_checking(adj_list, s):\n",
    "    \"\"\"\n",
    "    This function uses BFS to traverse the whole graph and check if\n",
    "    the subgraphs present in it are s-plexes\n",
    "    It returns 0 if they are not and 1 if they are\n",
    "    \"\"\"\n",
    "    # Mark all nodes as not visited\n",
    "    visited = [False] * len(adj_list)\n",
    "\n",
    "    while sum(visited) != len(visited): # i.e. until we have visited all of them\n",
    "        S = 0 # Count number of nodes in the group\n",
    "        group_nodes = [] # Store the nodes in the group\n",
    "\n",
    "        # Create a queue for BFS\n",
    "        queue = []\n",
    "        \n",
    "        # Pick the first node not yet visited as source and enqueue it\n",
    "        node = visited.index(False)\n",
    "        queue.append(node + 1) # Since indexing starts at 0 but node counts at 1\n",
    "        visited[node] = True\n",
    "\n",
    "        while queue:\n",
    "            node = queue.pop(0)\n",
    "            group_nodes.append(node)\n",
    "            S += 1\n",
    "\n",
    "            # Get all adjacent vertices of the queue\n",
    "            for i in adj_list[node]:\n",
    "                if visited[i-1] == False:\n",
    "                    queue.append(i)\n",
    "                    visited[i-1] = True\n",
    "        \n",
    "        counts = [len(adj_list[node]) for node in group_nodes]\n",
    "        # print(f\"This group contains {S} nodes: {group_nodes} with counts {counts}\")\n",
    "        for cnt in counts:\n",
    "            if cnt < S - s:\n",
    "                return False\n",
    "    \n",
    "    return True \n"
   ]
  },
  {
   "cell_type": "code",
   "execution_count": 121,
   "metadata": {},
   "outputs": [
    {
     "data": {
      "text/plain": [
       "True"
      ]
     },
     "execution_count": 121,
     "metadata": {},
     "output_type": "execute_result"
    }
   ],
   "source": [
    "BFS_checking(adj_list, 3)"
   ]
  }
 ],
 "metadata": {
  "kernelspec": {
   "display_name": "HO_env",
   "language": "python",
   "name": "python3"
  },
  "language_info": {
   "codemirror_mode": {
    "name": "ipython",
    "version": 3
   },
   "file_extension": ".py",
   "mimetype": "text/x-python",
   "name": "python",
   "nbconvert_exporter": "python",
   "pygments_lexer": "ipython3",
   "version": "3.11.5"
  }
 },
 "nbformat": 4,
 "nbformat_minor": 2
}
