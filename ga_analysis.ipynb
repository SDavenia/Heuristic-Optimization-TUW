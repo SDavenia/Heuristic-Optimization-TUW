{
 "cells": [
  {
   "cell_type": "code",
   "execution_count": 1,
   "metadata": {},
   "outputs": [],
   "source": [
    "import matplotlib.pyplot as plt \n",
    "import pandas as pd   \n",
    "import numpy as np\n",
    "import scipy\n",
    "import re"
   ]
  },
  {
   "cell_type": "code",
   "execution_count": 2,
   "metadata": {},
   "outputs": [],
   "source": [
    "# Replace 'your_file_path.txt' with the actual file path\n",
    "file_path = 'solutions/summary_test/ga.txt'\n",
    "\n",
    "# Read the data from the file\n",
    "with open(file_path, 'r') as file:\n",
    "    lines = file.readlines()"
   ]
  },
  {
   "cell_type": "code",
   "execution_count": 3,
   "metadata": {},
   "outputs": [],
   "source": [
    "instances = []\n",
    "avg_times_step = []\n",
    "scores = []\n",
    "changed_actual = []"
   ]
  },
  {
   "cell_type": "code",
   "execution_count": 4,
   "metadata": {},
   "outputs": [],
   "source": [
    "for line in lines:\n",
    "    if \"data/inst_test/\" in line:\n",
    "        instances.append(re.search(r'\\/([^\\/]+)\\.txt', line).group(1))\n",
    "    elif \"Average time per step\" in line:\n",
    "        avg_times_step.append(float(re.search(r'Average time per step: (.+?)s', line).group(1)))\n",
    "    elif \"Score\" in line:\n",
    "        scores.append(int(re.search(r'Score: (\\d+)', line).group(1)))\n",
    "    elif \"Changed actual\" in line:\n",
    "        changed_actual.append(re.search(r'Changed actual: (\\w+)', line).group(1) == 'True')"
   ]
  },
  {
   "cell_type": "code",
   "execution_count": 5,
   "metadata": {},
   "outputs": [],
   "source": [
    "df = pd.DataFrame({\n",
    "    'name': instances,\n",
    "    'score': scores,\n",
    "    'changed': changed_actual,\n",
    "    'avg_step_time': avg_times_step\n",
    "})"
   ]
  },
  {
   "cell_type": "code",
   "execution_count": 6,
   "metadata": {},
   "outputs": [
    {
     "data": {
      "text/plain": [
       "(50, 4)"
      ]
     },
     "execution_count": 6,
     "metadata": {},
     "output_type": "execute_result"
    }
   ],
   "source": [
    "df.shape"
   ]
  },
  {
   "cell_type": "code",
   "execution_count": 8,
   "metadata": {},
   "outputs": [],
   "source": [
    "df['changed_numeric'] = df['changed'].astype(int)\n",
    "\n",
    "# Define aggregation functions\n",
    "agg_functions = {\n",
    "    'score': ['mean', 'min', 'max'],\n",
    "    'avg_step_time': ['mean', 'min', 'max'],\n",
    "    'changed_numeric': 'mean'\n",
    "}\n",
    "\n",
    "# Group by 'name' and apply the aggregation functions\n",
    "result_df = df.groupby('name').agg(agg_functions).reset_index()\n",
    "\n",
    "# Rename columns for clarity\n",
    "result_df.columns = ['name', 'mean_score', 'min_score', 'max_score', 'mean_avg_step_time', 'min_avg_step_time', 'max_avg_step_time', 'proportion_changed']"
   ]
  },
  {
   "cell_type": "code",
   "execution_count": 9,
   "metadata": {},
   "outputs": [
    {
     "data": {
      "text/html": [
       "<div>\n",
       "<style scoped>\n",
       "    .dataframe tbody tr th:only-of-type {\n",
       "        vertical-align: middle;\n",
       "    }\n",
       "\n",
       "    .dataframe tbody tr th {\n",
       "        vertical-align: top;\n",
       "    }\n",
       "\n",
       "    .dataframe thead th {\n",
       "        text-align: right;\n",
       "    }\n",
       "</style>\n",
       "<table border=\"1\" class=\"dataframe\">\n",
       "  <thead>\n",
       "    <tr style=\"text-align: right;\">\n",
       "      <th></th>\n",
       "      <th>name</th>\n",
       "      <th>mean_score</th>\n",
       "      <th>min_score</th>\n",
       "      <th>max_score</th>\n",
       "      <th>mean_avg_step_time</th>\n",
       "      <th>min_avg_step_time</th>\n",
       "      <th>max_avg_step_time</th>\n",
       "      <th>proportion_changed</th>\n",
       "    </tr>\n",
       "  </thead>\n",
       "  <tbody>\n",
       "    <tr>\n",
       "      <th>0</th>\n",
       "      <td>heur002_n_100_m_3274</td>\n",
       "      <td>2560.4</td>\n",
       "      <td>2384</td>\n",
       "      <td>2772</td>\n",
       "      <td>0.321337</td>\n",
       "      <td>0.277659</td>\n",
       "      <td>0.369739</td>\n",
       "      <td>0.0</td>\n",
       "    </tr>\n",
       "    <tr>\n",
       "      <th>1</th>\n",
       "      <td>heur003_n_120_m_2588</td>\n",
       "      <td>5624.2</td>\n",
       "      <td>5466</td>\n",
       "      <td>5718</td>\n",
       "      <td>0.223482</td>\n",
       "      <td>0.211631</td>\n",
       "      <td>0.237476</td>\n",
       "      <td>0.2</td>\n",
       "    </tr>\n",
       "    <tr>\n",
       "      <th>2</th>\n",
       "      <td>heur004_n_140_m_3014</td>\n",
       "      <td>6275.0</td>\n",
       "      <td>6119</td>\n",
       "      <td>6440</td>\n",
       "      <td>0.269591</td>\n",
       "      <td>0.253566</td>\n",
       "      <td>0.280737</td>\n",
       "      <td>0.2</td>\n",
       "    </tr>\n",
       "    <tr>\n",
       "      <th>3</th>\n",
       "      <td>heur005_n_160_m_4015</td>\n",
       "      <td>9119.6</td>\n",
       "      <td>9070</td>\n",
       "      <td>9210</td>\n",
       "      <td>0.426197</td>\n",
       "      <td>0.395987</td>\n",
       "      <td>0.447375</td>\n",
       "      <td>0.2</td>\n",
       "    </tr>\n",
       "    <tr>\n",
       "      <th>4</th>\n",
       "      <td>heur006_n_180_m_6067</td>\n",
       "      <td>12998.4</td>\n",
       "      <td>12716</td>\n",
       "      <td>13262</td>\n",
       "      <td>0.717072</td>\n",
       "      <td>0.676886</td>\n",
       "      <td>0.743045</td>\n",
       "      <td>0.2</td>\n",
       "    </tr>\n",
       "    <tr>\n",
       "      <th>5</th>\n",
       "      <td>heur007_n_200_m_6731</td>\n",
       "      <td>16386.2</td>\n",
       "      <td>16097</td>\n",
       "      <td>16576</td>\n",
       "      <td>1.018145</td>\n",
       "      <td>0.941827</td>\n",
       "      <td>1.075055</td>\n",
       "      <td>0.0</td>\n",
       "    </tr>\n",
       "    <tr>\n",
       "      <th>6</th>\n",
       "      <td>heur008_n_250_m_1045</td>\n",
       "      <td>1487.2</td>\n",
       "      <td>1421</td>\n",
       "      <td>1531</td>\n",
       "      <td>2.183581</td>\n",
       "      <td>1.845380</td>\n",
       "      <td>2.438247</td>\n",
       "      <td>0.4</td>\n",
       "    </tr>\n",
       "    <tr>\n",
       "      <th>7</th>\n",
       "      <td>heur013_n_250_m_22395</td>\n",
       "      <td>26106.0</td>\n",
       "      <td>22307</td>\n",
       "      <td>32772</td>\n",
       "      <td>9.909639</td>\n",
       "      <td>7.326313</td>\n",
       "      <td>14.796429</td>\n",
       "      <td>0.2</td>\n",
       "    </tr>\n",
       "    <tr>\n",
       "      <th>8</th>\n",
       "      <td>heur014_n_300_m_14191</td>\n",
       "      <td>38499.0</td>\n",
       "      <td>37824</td>\n",
       "      <td>38809</td>\n",
       "      <td>7.045710</td>\n",
       "      <td>6.188367</td>\n",
       "      <td>8.144200</td>\n",
       "      <td>0.0</td>\n",
       "    </tr>\n",
       "    <tr>\n",
       "      <th>9</th>\n",
       "      <td>heur019_n_300_m_28765</td>\n",
       "      <td>37735.2</td>\n",
       "      <td>23839</td>\n",
       "      <td>43402</td>\n",
       "      <td>10.001855</td>\n",
       "      <td>9.379652</td>\n",
       "      <td>10.658092</td>\n",
       "      <td>0.2</td>\n",
       "    </tr>\n",
       "  </tbody>\n",
       "</table>\n",
       "</div>"
      ],
      "text/plain": [
       "                    name  mean_score  min_score  max_score  \\\n",
       "0   heur002_n_100_m_3274      2560.4       2384       2772   \n",
       "1   heur003_n_120_m_2588      5624.2       5466       5718   \n",
       "2   heur004_n_140_m_3014      6275.0       6119       6440   \n",
       "3   heur005_n_160_m_4015      9119.6       9070       9210   \n",
       "4   heur006_n_180_m_6067     12998.4      12716      13262   \n",
       "5   heur007_n_200_m_6731     16386.2      16097      16576   \n",
       "6   heur008_n_250_m_1045      1487.2       1421       1531   \n",
       "7  heur013_n_250_m_22395     26106.0      22307      32772   \n",
       "8  heur014_n_300_m_14191     38499.0      37824      38809   \n",
       "9  heur019_n_300_m_28765     37735.2      23839      43402   \n",
       "\n",
       "   mean_avg_step_time  min_avg_step_time  max_avg_step_time  \\\n",
       "0            0.321337           0.277659           0.369739   \n",
       "1            0.223482           0.211631           0.237476   \n",
       "2            0.269591           0.253566           0.280737   \n",
       "3            0.426197           0.395987           0.447375   \n",
       "4            0.717072           0.676886           0.743045   \n",
       "5            1.018145           0.941827           1.075055   \n",
       "6            2.183581           1.845380           2.438247   \n",
       "7            9.909639           7.326313          14.796429   \n",
       "8            7.045710           6.188367           8.144200   \n",
       "9           10.001855           9.379652          10.658092   \n",
       "\n",
       "   proportion_changed  \n",
       "0                 0.0  \n",
       "1                 0.2  \n",
       "2                 0.2  \n",
       "3                 0.2  \n",
       "4                 0.2  \n",
       "5                 0.0  \n",
       "6                 0.4  \n",
       "7                 0.2  \n",
       "8                 0.0  \n",
       "9                 0.2  "
      ]
     },
     "execution_count": 9,
     "metadata": {},
     "output_type": "execute_result"
    }
   ],
   "source": [
    "result_df"
   ]
  },
  {
   "cell_type": "code",
   "execution_count": 10,
   "metadata": {},
   "outputs": [
    {
     "data": {
      "image/png": "[encoded data removed]",
      "text/plain": [
       "<Figure size 1000x600 with 1 Axes>"
      ]
     },
     "metadata": {},
     "output_type": "display_data"
    }
   ],
   "source": [
    "# Set the name column as the index for better x-axis labels\n",
    "df = result_df.copy()\n",
    "df.set_index('name', inplace=True)\n",
    "\n",
    "# Plotting\n",
    "fig, ax = plt.subplots(figsize=(10, 6))\n",
    "\n",
    "# Plotting mean score as a bar\n",
    "ax.bar(df.index, df['mean_score'], label='Mean Score', color='skyblue')\n",
    "\n",
    "# Plotting error bars for min and max scores\n",
    "ax.errorbar(df.index, df['mean_score'], yerr=[df['mean_score'] - df['min_score'], df['max_score'] - df['mean_score']],\n",
    "            fmt='o', color='black', capsize=5, label='Min/Max Score')\n",
    "\n",
    "# Set labels and title\n",
    "ax.set_xlabel('Instance')\n",
    "ax.set_ylabel('Score')\n",
    "ax.set_title('Mean, Min, and Max Scores for test instances')\n",
    "\n",
    "# Rotate x-axis labels for better readability\n",
    "plt.xticks(rotation=45, ha='right')\n",
    "\n",
    "# Display legend\n",
    "ax.legend()\n",
    "\n",
    "# Show the plot\n",
    "plt.tight_layout()\n",
    "plt.show()"
   ]
  },
  {
   "cell_type": "markdown",
   "metadata": {},
   "source": [
    "## Statistical Testing.\n",
    "Perform Wilcoxon-ranked t-test for paired samples.\n",
    "\n",
    "Reasons:\n",
    "- too few instances to assess whether noraml or not normal data."
   ]
  },
  {
   "cell_type": "code",
   "execution_count": 26,
   "metadata": {},
   "outputs": [
    {
     "data": {
      "text/html": [
       "<div>\n",
       "<style scoped>\n",
       "    .dataframe tbody tr th:only-of-type {\n",
       "        vertical-align: middle;\n",
       "    }\n",
       "\n",
       "    .dataframe tbody tr th {\n",
       "        vertical-align: top;\n",
       "    }\n",
       "\n",
       "    .dataframe thead th {\n",
       "        text-align: right;\n",
       "    }\n",
       "</style>\n",
       "<table border=\"1\" class=\"dataframe\">\n",
       "  <thead>\n",
       "    <tr style=\"text-align: right;\">\n",
       "      <th></th>\n",
       "      <th>file_path</th>\n",
       "      <th>run_ID</th>\n",
       "      <th>meas_ID</th>\n",
       "      <th>score</th>\n",
       "    </tr>\n",
       "  </thead>\n",
       "  <tbody>\n",
       "    <tr>\n",
       "      <th>0</th>\n",
       "      <td>data/inst_test/heur006_n_180_m_6067.txt</td>\n",
       "      <td>1</td>\n",
       "      <td>1</td>\n",
       "      <td>15581.0</td>\n",
       "    </tr>\n",
       "    <tr>\n",
       "      <th>1</th>\n",
       "      <td>data/inst_test/heur006_n_180_m_6067.txt</td>\n",
       "      <td>1</td>\n",
       "      <td>2</td>\n",
       "      <td>13562.0</td>\n",
       "    </tr>\n",
       "    <tr>\n",
       "      <th>2</th>\n",
       "      <td>data/inst_test/heur006_n_180_m_6067.txt</td>\n",
       "      <td>1</td>\n",
       "      <td>3</td>\n",
       "      <td>13706.0</td>\n",
       "    </tr>\n",
       "    <tr>\n",
       "      <th>3</th>\n",
       "      <td>data/inst_test/heur006_n_180_m_6067.txt</td>\n",
       "      <td>1</td>\n",
       "      <td>4</td>\n",
       "      <td>13613.0</td>\n",
       "    </tr>\n",
       "    <tr>\n",
       "      <th>4</th>\n",
       "      <td>data/inst_test/heur006_n_180_m_6067.txt</td>\n",
       "      <td>1</td>\n",
       "      <td>5</td>\n",
       "      <td>14201.0</td>\n",
       "    </tr>\n",
       "  </tbody>\n",
       "</table>\n",
       "</div>"
      ],
      "text/plain": [
       "                                 file_path  run_ID  meas_ID    score\n",
       "0  data/inst_test/heur006_n_180_m_6067.txt       1        1  15581.0\n",
       "1  data/inst_test/heur006_n_180_m_6067.txt       1        2  13562.0\n",
       "2  data/inst_test/heur006_n_180_m_6067.txt       1        3  13706.0\n",
       "3  data/inst_test/heur006_n_180_m_6067.txt       1        4  13613.0\n",
       "4  data/inst_test/heur006_n_180_m_6067.txt       1        5  14201.0"
      ]
     },
     "execution_count": 26,
     "metadata": {},
     "output_type": "execute_result"
    }
   ],
   "source": [
    "rc_data = pd.read_csv('rc_ga_comparison.csv')\n",
    "rc_data.head()"
   ]
  },
  {
   "cell_type": "code",
   "execution_count": null,
   "metadata": {},
   "outputs": [],
   "source": [
    "result_rc_df = rc_data.groupby(['file_path', 'run_ID'], as_index=False)['score'].agg(min)\n",
    "result_rc_df.head()"
   ]
  },
  {
   "cell_type": "code",
   "execution_count": null,
   "metadata": {},
   "outputs": [],
   "source": [
    "result_rc_df = result_rc_df.groupby(['file_path'], as_index=False)['score'].agg('mean')"
   ]
  },
  {
   "cell_type": "code",
   "execution_count": 67,
   "metadata": {},
   "outputs": [],
   "source": [
    "rc_results = list(result_rc_df['score'])\n",
    "ga_results =list(result_df['mean_score'])"
   ]
  },
  {
   "cell_type": "code",
   "execution_count": 78,
   "metadata": {},
   "outputs": [
    {
     "name": "stdout",
     "output_type": "stream",
     "text": [
      "0.193359375\n"
     ]
    }
   ],
   "source": [
    "res = scipy.stats.wilcoxon(rc_results, ga_results, alternative = 'two-sided')\n",
    "\n",
    "# Print results\n",
    "print(res.pvalue)"
   ]
  }
 ],
 "metadata": {
  "kernelspec": {
   "display_name": "HO_env",
   "language": "python",
   "name": "python3"
  },
  "language_info": {
   "codemirror_mode": {
    "name": "ipython",
    "version": 3
   },
   "file_extension": ".py",
   "mimetype": "text/x-python",
   "name": "python",
   "nbconvert_exporter": "python",
   "pygments_lexer": "ipython3",
   "version": "3.11.5"
  }
 },
 "nbformat": 4,
 "nbformat_minor": 2
}
