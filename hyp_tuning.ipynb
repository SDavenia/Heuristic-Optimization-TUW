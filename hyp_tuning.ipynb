{
 "cells": [
  {
   "cell_type": "code",
   "execution_count": 1,
   "metadata": {},
   "outputs": [
    {
     "name": "stderr",
     "output_type": "stream",
     "text": [
      "/Users/samuele/opt/anaconda3/envs/HO_env/lib/python3.11/site-packages/tqdm/auto.py:21: TqdmWarning: IProgress not found. Please update jupyter and ipywidgets. See https://ipywidgets.readthedocs.io/en/stable/user_install.html\n",
      "  from .autonotebook import tqdm as notebook_tqdm\n"
     ]
    }
   ],
   "source": [
    "import pyhopper"
   ]
  },
  {
   "cell_type": "code",
   "execution_count": 2,
   "metadata": {},
   "outputs": [],
   "source": [
    "from pymhlib.solution import Solution, TObj\n",
    "from pymhlib.settings import get_settings_parser\n",
    "from pymhlib.scheduler import Result\n",
    "from SplexSolution import SPlexSolution\n",
    "from SplexSolution import SPlexInstance\n",
    "\n",
    "from copy import deepcopy as dp\n",
    "import numpy as np\n",
    "import random\n",
    "import time"
   ]
  },
  {
   "cell_type": "code",
   "execution_count": 3,
   "metadata": {},
   "outputs": [],
   "source": [
    "from GA import GeneticAlgorithm"
   ]
  },
  {
   "cell_type": "code",
   "execution_count": 4,
   "metadata": {},
   "outputs": [],
   "source": [
    "inputfile = 'data/inst_tuning/heur054_n_300_m_2746.txt'"
   ]
  },
  {
   "cell_type": "code",
   "execution_count": 5,
   "metadata": {},
   "outputs": [],
   "source": [
    "def my_objective(params: dict) -> float:\n",
    "    \"\"\"\n",
    "    Takes as input a problem instance and a set of parameters and returns the objective value.\n",
    "    \"\"\"\n",
    "    spi = SPlexInstance(inputfile)\n",
    "    k_use = int(spi.n * params['k_perc_n'] + spi.m/spi.n * params['k_perc_mn'])\n",
    "    GA_instance = GeneticAlgorithm(spi, params['n_solutions'], k_use, params['alpha'], params['beta'], params['selection_method'], params['perc_replace'], params['join_p_param'])\n",
    "    GA_instance.generate_initial_population()\n",
    "    GA_instance.evolve_n_steps(n=20)\n",
    "    return GA_instance.population_values[0]"
   ]
  },
  {
   "cell_type": "code",
   "execution_count": 6,
   "metadata": {},
   "outputs": [
    {
     "name": "stdout",
     "output_type": "stream",
     "text": [
      "Iteration: 0\n",
      "Iteration: 1\n",
      "Iteration: 2\n",
      "Iteration: 3\n",
      "Iteration: 4\n",
      "Iteration: 5\n",
      "Iteration: 6\n",
      "Iteration: 7\n",
      "Iteration: 8\n",
      "Iteration: 9\n",
      "Iteration: 10\n",
      "Iteration: 11\n",
      "Iteration: 12\n",
      "Iteration: 13\n",
      "Iteration: 14\n",
      "Iteration: 15\n",
      "Iteration: 16\n",
      "Iteration: 17\n",
      "Iteration: 18\n",
      "Iteration: 19\n",
      "Exceeded time limit\n",
      "==================== Summary ===================\n",
      "Mode              : Best f : Steps : Time       \n",
      "----------------  : ----   : ----  : ----       \n",
      "Initial solution  : 8137   : 1     : 15:40 (m:s)\n",
      "----------------  : ----   : ----  : ----       \n",
      "Total             : 8137   : 1     : 15:40 (m:s)\n",
      "================================================\n"
     ]
    }
   ],
   "source": [
    "search = pyhopper.Search(\n",
    "    n_solutions = pyhopper.int(10, 20, multiple_of=10),\n",
    "    alpha = pyhopper.choice([0.05, 0.10, 0.15]),\n",
    "    beta = pyhopper.float(0.1, 1.0, \"0.1f\"),\n",
    "    k_perc_n = pyhopper.choice([0.1, 0.15, 0.20]),\n",
    "    k_perc_mn = pyhopper.float(0.1, 0.5, \"0.1f\"),\n",
    "    selection_method = pyhopper.choice([\"lr\",\"fp\"]),\n",
    "    perc_replace = pyhopper.float(0.7, 0.9, \"0.1f\"),\n",
    "    join_p_param = pyhopper.int(10, 40, multiple_of=10)\n",
    ")\n",
    "best_params = search.run(my_objective, \"minimize\", runtime=\"1m\", n_jobs=1, quiet=True)"
   ]
  },
  {
   "cell_type": "code",
   "execution_count": 7,
   "metadata": {},
   "outputs": [
    {
     "data": {
      "text/plain": [
       "{'n_solutions': 20,\n",
       " 'alpha': 0.1,\n",
       " 'beta': 0.9,\n",
       " 'k_perc_n': 0.15,\n",
       " 'k_perc_mn': 0.3,\n",
       " 'selection_method': 'fp',\n",
       " 'perc_replace': 0.7,\n",
       " 'join_p_param': 30}"
      ]
     },
     "execution_count": 7,
     "metadata": {},
     "output_type": "execute_result"
    }
   ],
   "source": [
    "best_params"
   ]
  },
  {
   "cell_type": "code",
   "execution_count": 20,
   "metadata": {},
   "outputs": [
    {
     "data": {
      "text/plain": [
       "{'n_solutions': 20,\n",
       " 'alpha': 0.3,\n",
       " 'beta': 0.8,\n",
       " 'k_perc_n': 0.15,\n",
       " 'k_perc_mn': 0.3,\n",
       " 'selection_method': 'lr',\n",
       " 'perc_replace': 0.8,\n",
       " 'join_p_param': 30}"
      ]
     },
     "execution_count": 20,
     "metadata": {},
     "output_type": "execute_result"
    }
   ],
   "source": [
    "best_params"
   ]
  }
 ],
 "metadata": {
  "kernelspec": {
   "display_name": "HO_env",
   "language": "python",
   "name": "python3"
  },
  "language_info": {
   "codemirror_mode": {
    "name": "ipython",
    "version": 3
   },
   "file_extension": ".py",
   "mimetype": "text/x-python",
   "name": "python",
   "nbconvert_exporter": "python",
   "pygments_lexer": "ipython3",
   "version": "3.11.5"
  }
 },
 "nbformat": 4,
 "nbformat_minor": 2
}
